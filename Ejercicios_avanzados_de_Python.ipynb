{
  "nbformat": 4,
  "nbformat_minor": 0,
  "metadata": {
    "colab": {
      "name": "Ejercicios_avanzados_de_Python.ipynb",
      "provenance": []
    },
    "kernelspec": {
      "name": "python3",
      "display_name": "Python 3"
    },
    "language_info": {
      "name": "python"
    }
  },
  "cells": [
    {
      "cell_type": "markdown",
      "metadata": {
        "id": "kPQm-4wRuccq"
      },
      "source": [
        "#Ejercicio ¿cuándo tendrá 100 años?\n",
        "\n",
        "Cree un programa que le pida al usuario que ingrese su nombre y su edad. Imprima un mensaje dirigido a ellos que les diga el año en que cumplirán 100 años."
      ]
    },
    {
      "cell_type": "markdown",
      "metadata": {
        "id": "xuI-tHoDsEho"
      },
      "source": [
        "#Ejercicio de list comprehension\n",
        "\n",
        "Dada una lista guardada en una variable: a = [1, 4, 9, 16, 25, 36, 49, 64, 81, 100] escriba una línea de Python que tome esta lista y haga una nueva lista que contenga solo los elementos pares de esta lista."
      ]
    },
    {
      "cell_type": "markdown",
      "metadata": {
        "id": "dUUh1kUQtKEY"
      },
      "source": [
        "#Ejercicio de generador de contraseñas\n",
        "\n",
        "Escribe un generador de contraseñas en Python. Las contraseñas seguras tienen una combinación de letras minúsculas, mayúsculas, números y símbolos. Las contraseñas deben ser aleatorias, generando una nueva contraseña cada vez que el usuario solicita una nueva contraseña.\n",
        "\n",
        "NOTA: \"abcdefghijklmnopqrstuvwxyz01234567890ABCDEFGHIJKLMNOPQRSTUVWXYZ!@#$%^&*()?\""
      ]
    },
    {
      "cell_type": "markdown",
      "metadata": {
        "id": "VoObb5r20UNr"
      },
      "source": [
        "#Ejercicio de ejecución de programa externo py con %run\n",
        "\n",
        "Cree un programa que imprima en pantalla \"Hola mundo!\" y guárdelo con extensión saludo.py\n",
        "\n",
        "Abra un nuevo cuaderno de Python\n",
        "\n",
        "Suba el programa \"saludo.py\" al directorio sample_data\n",
        "\n",
        "Ejecute el programa con el comando mágico %run"
      ]
    }
  ]
}