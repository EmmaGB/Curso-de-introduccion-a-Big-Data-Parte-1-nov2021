{
  "nbformat": 4,
  "nbformat_minor": 0,
  "metadata": {
    "colab": {
      "name": "Ejercicios_avanzados_de_Python_resueltos.ipynb",
      "provenance": []
    },
    "kernelspec": {
      "name": "python3",
      "display_name": "Python 3"
    },
    "language_info": {
      "name": "python"
    }
  },
  "cells": [
    {
      "cell_type": "markdown",
      "metadata": {
        "id": "kPQm-4wRuccq"
      },
      "source": [
        "#Ejercicio ¿cuándo tendrá 100 años?\n",
        "\n",
        "Cree un programa que le pida al usuario que ingrese su nombre y su edad. Imprima un mensaje dirigido a ellos que les diga el año en que cumplirán 100 años."
      ]
    },
    {
      "cell_type": "code",
      "metadata": {
        "colab": {
          "base_uri": "https://localhost:8080/"
        },
        "id": "2FIIhFJKu5hi",
        "outputId": "2fbaa0f5-6f39-43b5-80d2-302b7c25fccc"
      },
      "source": [
        "nombre = input(\"¿Cómo te llamas?: \")\n",
        "edad = int(input(\"¿Cuántos años tienes?: \"))\n",
        "anno = str((2021 - edad)+100)\n",
        "print(nombre + \" tendrás 100 años en el año \" + anno)"
      ],
      "execution_count": null,
      "outputs": [
        {
          "output_type": "stream",
          "name": "stdout",
          "text": [
            "¿Cómo te llamas?: Alberto\n",
            "¿Cuántos años tienes?: 50\n",
            "Alberto tendrás 100 años en el año 2071\n"
          ]
        }
      ]
    },
    {
      "cell_type": "markdown",
      "metadata": {
        "id": "YG7q72KQv0K7"
      },
      "source": [
        "Para obtener el año actual"
      ]
    },
    {
      "cell_type": "code",
      "metadata": {
        "colab": {
          "base_uri": "https://localhost:8080/"
        },
        "id": "lQoS_WfHv4UT",
        "outputId": "6896d6cb-a32d-459f-92a8-9d51743c48ad"
      },
      "source": [
        "import datetime\n",
        "datetime.datetime.now()"
      ],
      "execution_count": null,
      "outputs": [
        {
          "output_type": "execute_result",
          "data": {
            "text/plain": [
              "datetime.datetime(2021, 10, 27, 12, 38, 12, 643953)"
            ]
          },
          "metadata": {},
          "execution_count": 20
        }
      ]
    },
    {
      "cell_type": "code",
      "metadata": {
        "colab": {
          "base_uri": "https://localhost:8080/"
        },
        "id": "79NQ3IigwO2a",
        "outputId": "cf2b42d7-b3bb-4521-8d51-3b6a46711978"
      },
      "source": [
        "datetime.datetime.now().year"
      ],
      "execution_count": null,
      "outputs": [
        {
          "output_type": "execute_result",
          "data": {
            "text/plain": [
              "2021"
            ]
          },
          "metadata": {},
          "execution_count": 21
        }
      ]
    },
    {
      "cell_type": "markdown",
      "metadata": {
        "id": "xuI-tHoDsEho"
      },
      "source": [
        "#Ejercicio de list comprehension\n",
        "\n",
        "Dada una lista guardada en una variable: a = [1, 4, 9, 16, 25, 36, 49, 64, 81, 100] escriba una línea de Python que tome esta lista y haga una nueva lista que contenga solo los elementos pares de esta lista."
      ]
    },
    {
      "cell_type": "code",
      "metadata": {
        "id": "SM6513hZq7mZ"
      },
      "source": [
        "a = [1, 4, 9, 16, 25, 36, 49, 64, 81, 100]"
      ],
      "execution_count": null,
      "outputs": []
    },
    {
      "cell_type": "markdown",
      "metadata": {
        "id": "XOvHUIZpsfB-"
      },
      "source": [
        "Solución"
      ]
    },
    {
      "cell_type": "code",
      "metadata": {
        "colab": {
          "base_uri": "https://localhost:8080/"
        },
        "id": "qRqM0Q3Kq9Fv",
        "outputId": "84c7ef06-b610-435a-8cc4-7cef576e8f4a"
      },
      "source": [
        "[i for i in a if i%2==0]\n"
      ],
      "execution_count": null,
      "outputs": [
        {
          "output_type": "execute_result",
          "data": {
            "text/plain": [
              "[4, 16, 36, 64, 100]"
            ]
          },
          "metadata": {},
          "execution_count": 11
        }
      ]
    },
    {
      "cell_type": "markdown",
      "metadata": {
        "id": "dUUh1kUQtKEY"
      },
      "source": [
        "#Ejercicio de generador de contraseñas\n",
        "\n",
        "Escribe un generador de contraseñas en Python. Las contraseñas seguras tienen una combinación de letras minúsculas, mayúsculas, números y símbolos. Las contraseñas deben ser aleatorias, generando una nueva contraseña cada vez que el usuario solicita una nueva contraseña. \n",
        "\n",
        "NOTA: \"abcdefghijklmnopqrstuvwxyz01234567890ABCDEFGHIJKLMNOPQRSTUVWXYZ!@#$%^&*()?\""
      ]
    },
    {
      "cell_type": "code",
      "metadata": {
        "colab": {
          "base_uri": "https://localhost:8080/"
        },
        "id": "EpVz8wG8tYuZ",
        "outputId": "eb24a4f4-92dc-479c-e395-0ffee0726257"
      },
      "source": [
        "import random\n",
        "\n",
        "s = \"abcdefghijklmnopqrstuvwxyz01234567890ABCDEFGHIJKLMNOPQRSTUVWXYZ!@#$%^&*()?\"\n",
        "longitud = 8\n",
        "p =  \"\".join(random.sample(s, longitud))\n",
        "print (p)"
      ],
      "execution_count": null,
      "outputs": [
        {
          "output_type": "stream",
          "name": "stdout",
          "text": [
            "AZoIl0P!\n"
          ]
        }
      ]
    },
    {
      "cell_type": "markdown",
      "metadata": {
        "id": "VoObb5r20UNr"
      },
      "source": [
        "#Ejercicio de ejecución de programa externo py con %run\n",
        "\n",
        "Cree un programa que imprima en pantalla \"Hola mundo!\" y guárdelo con extensión saludo.py\n",
        "\n",
        "Abra un nuevo cuaderno de Python\n",
        "\n",
        "Suba el programa \"saludo.py\" al directorio sample_data\n",
        "\n",
        "Ejecute el programa con el comando mágico %run"
      ]
    },
    {
      "cell_type": "code",
      "metadata": {
        "id": "KaOvf4AX1Tac"
      },
      "source": [
        "%run sample_data/saludo"
      ],
      "execution_count": null,
      "outputs": []
    }
  ]
}