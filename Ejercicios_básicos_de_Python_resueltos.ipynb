{
  "nbformat": 4,
  "nbformat_minor": 0,
  "metadata": {
    "colab": {
      "name": "Ejercicios_básicos_de_Python_resueltos.ipynb",
      "provenance": []
    },
    "kernelspec": {
      "name": "python3",
      "display_name": "Python 3"
    },
    "language_info": {
      "name": "python"
    }
  },
  "cells": [
    {
      "cell_type": "markdown",
      "metadata": {
        "id": "RL-pITQqPt9a"
      },
      "source": [
        "1. Cree una lista denominada \"islas\" con los nombres de las Islas Canarias (sin La Graciosa)"
      ]
    },
    {
      "cell_type": "code",
      "metadata": {
        "id": "sLjUXDlzPluK"
      },
      "source": [
        "islas = [\"Fuerteventura\", \"El Hierro\", \"Gran Canaria\", \"La Gomera\", \"La Palma\", \"Tenerife\", \"Lanzarote\"]"
      ],
      "execution_count": null,
      "outputs": []
    },
    {
      "cell_type": "markdown",
      "metadata": {
        "id": "F0uHBoNIQaol"
      },
      "source": [
        "2. Muestre el tipo de dato de \"islas\""
      ]
    },
    {
      "cell_type": "code",
      "metadata": {
        "colab": {
          "base_uri": "https://localhost:8080/"
        },
        "id": "xhQ7FyIxQTsy",
        "outputId": "af822ad4-667a-4c1d-e913-1d88cea021e2"
      },
      "source": [
        "type(islas)"
      ],
      "execution_count": null,
      "outputs": [
        {
          "output_type": "execute_result",
          "data": {
            "text/plain": [
              "list"
            ]
          },
          "metadata": {},
          "execution_count": 2
        }
      ]
    },
    {
      "cell_type": "code",
      "metadata": {
        "colab": {
          "base_uri": "https://localhost:8080/"
        },
        "id": "O_ay_psZVwQJ",
        "outputId": "0553c457-3ac8-4020-e13d-bfee1a4bd9fd"
      },
      "source": [
        "islas_2 = (\"Fuerteventura\", \"El Hierro\", \"Gran Canaria\", \"La Gomera\", \"La Palma\", \"Tenerife\", \"Lanzarote\")\n",
        "type(islas_2)"
      ],
      "execution_count": null,
      "outputs": [
        {
          "output_type": "execute_result",
          "data": {
            "text/plain": [
              "tuple"
            ]
          },
          "metadata": {},
          "execution_count": 3
        }
      ]
    },
    {
      "cell_type": "markdown",
      "metadata": {
        "id": "vtIi_BKuQhzB"
      },
      "source": [
        "3. ¿Cuántos elementos tiene la lista?"
      ]
    },
    {
      "cell_type": "code",
      "metadata": {
        "colab": {
          "base_uri": "https://localhost:8080/"
        },
        "id": "m4iLhI9cQZUx",
        "outputId": "c6ebe433-9088-45d8-d45f-ccdf802b32da"
      },
      "source": [
        "len(islas)"
      ],
      "execution_count": null,
      "outputs": [
        {
          "output_type": "execute_result",
          "data": {
            "text/plain": [
              "7"
            ]
          },
          "metadata": {},
          "execution_count": 4
        }
      ]
    },
    {
      "cell_type": "markdown",
      "metadata": {
        "id": "jdjxinSmQ07Z"
      },
      "source": [
        "4. Muestre el primer elemento de la lista. Muestre después el cuarto elemento de la lista"
      ]
    },
    {
      "cell_type": "code",
      "metadata": {
        "colab": {
          "base_uri": "https://localhost:8080/"
        },
        "id": "ZPyVjzM4Q8_v",
        "outputId": "7c77715a-4aa3-4578-fd40-dc65d5446704"
      },
      "source": [
        "print (islas[0])\n",
        "print (islas[3])"
      ],
      "execution_count": null,
      "outputs": [
        {
          "output_type": "stream",
          "name": "stdout",
          "text": [
            "Fuerteventura\n",
            "La Gomera\n"
          ]
        }
      ]
    },
    {
      "cell_type": "markdown",
      "metadata": {
        "id": "92cUTXBLRKnG"
      },
      "source": [
        "5. Muestre el tipo de dato del primer elemento de la lista"
      ]
    },
    {
      "cell_type": "code",
      "metadata": {
        "colab": {
          "base_uri": "https://localhost:8080/"
        },
        "id": "9VhbSPZdRKMy",
        "outputId": "38f06fa1-bdbc-4633-9129-3cd8dc76f802"
      },
      "source": [
        "type(islas[0])"
      ],
      "execution_count": null,
      "outputs": [
        {
          "output_type": "execute_result",
          "data": {
            "text/plain": [
              "str"
            ]
          },
          "metadata": {},
          "execution_count": 6
        }
      ]
    },
    {
      "cell_type": "markdown",
      "metadata": {
        "id": "0ZOTl4bnRQj2"
      },
      "source": [
        "6. Ordene la lista \"islas\" por orden alfabético y muéstrela en pantalla"
      ]
    },
    {
      "cell_type": "code",
      "metadata": {
        "colab": {
          "base_uri": "https://localhost:8080/"
        },
        "id": "0mSLbr7kRP3c",
        "outputId": "ae3cbb41-1e01-4520-bd2e-5098a06595ef"
      },
      "source": [
        "islas.sort()\n",
        "print(islas)"
      ],
      "execution_count": null,
      "outputs": [
        {
          "output_type": "stream",
          "name": "stdout",
          "text": [
            "['El Hierro', 'Fuerteventura', 'Gran Canaria', 'La Gomera', 'La Palma', 'Lanzarote', 'Tenerife']\n"
          ]
        }
      ]
    },
    {
      "cell_type": "markdown",
      "metadata": {
        "id": "SoBsVMqwTK5m"
      },
      "source": [
        "7. Muestre el último elemento de la lista"
      ]
    },
    {
      "cell_type": "code",
      "metadata": {
        "colab": {
          "base_uri": "https://localhost:8080/",
          "height": 35
        },
        "id": "GFgUkA3rQw50",
        "outputId": "c03d8623-e485-461a-8ea3-0794fb04864e"
      },
      "source": [
        "islas[-1]"
      ],
      "execution_count": null,
      "outputs": [
        {
          "output_type": "execute_result",
          "data": {
            "application/vnd.google.colaboratory.intrinsic+json": {
              "type": "string"
            },
            "text/plain": [
              "'Tenerife'"
            ]
          },
          "metadata": {},
          "execution_count": 8
        }
      ]
    },
    {
      "cell_type": "markdown",
      "metadata": {
        "id": "B-a55S5hTaYJ"
      },
      "source": [
        "8. Muestre los tres primeros elementos de la lista"
      ]
    },
    {
      "cell_type": "code",
      "metadata": {
        "colab": {
          "base_uri": "https://localhost:8080/"
        },
        "id": "LRsDTZJBTReR",
        "outputId": "291bd05e-e698-4752-cebe-4f4fc95cf2fc"
      },
      "source": [
        "islas[:3]"
      ],
      "execution_count": null,
      "outputs": [
        {
          "output_type": "execute_result",
          "data": {
            "text/plain": [
              "['El Hierro', 'Fuerteventura', 'Gran Canaria']"
            ]
          },
          "metadata": {},
          "execution_count": 9
        }
      ]
    },
    {
      "cell_type": "markdown",
      "metadata": {
        "id": "Nn98RkJwToVq"
      },
      "source": [
        "9. Muestre los dos últimos elementos de la lista"
      ]
    },
    {
      "cell_type": "code",
      "metadata": {
        "colab": {
          "base_uri": "https://localhost:8080/"
        },
        "id": "4E1sQ5RwTlXR",
        "outputId": "109ccb1e-9e45-49f0-d9d8-95249db0887a"
      },
      "source": [
        "islas[-2:]"
      ],
      "execution_count": null,
      "outputs": [
        {
          "output_type": "execute_result",
          "data": {
            "text/plain": [
              "['Lanzarote', 'Tenerife']"
            ]
          },
          "metadata": {},
          "execution_count": 10
        }
      ]
    },
    {
      "cell_type": "markdown",
      "metadata": {
        "id": "3wYntBwBXL3P"
      },
      "source": [
        "10. ¿qué posición ocupa \"La Gomera\" en la lista \"islas\"?"
      ]
    },
    {
      "cell_type": "code",
      "metadata": {
        "colab": {
          "base_uri": "https://localhost:8080/"
        },
        "id": "CsA0W5zSXYPF",
        "outputId": "9f527b40-2fea-4cb4-a15e-8f567f892441"
      },
      "source": [
        "islas.index(\"La Gomera\")"
      ],
      "execution_count": null,
      "outputs": [
        {
          "output_type": "execute_result",
          "data": {
            "text/plain": [
              "3"
            ]
          },
          "metadata": {},
          "execution_count": 11
        }
      ]
    },
    {
      "cell_type": "markdown",
      "metadata": {
        "id": "74LCirh7T434"
      },
      "source": [
        "11. Añada \"La Graciosa\" a la lista \"islas\""
      ]
    },
    {
      "cell_type": "code",
      "metadata": {
        "colab": {
          "base_uri": "https://localhost:8080/"
        },
        "id": "uY315-TTT4iq",
        "outputId": "f2ddfff8-73a7-4dd7-d540-9b25a5843bb1"
      },
      "source": [
        "islas.append(\"La Graciosa\")\n",
        "islas"
      ],
      "execution_count": null,
      "outputs": [
        {
          "output_type": "execute_result",
          "data": {
            "text/plain": [
              "['El Hierro',\n",
              " 'Fuerteventura',\n",
              " 'Gran Canaria',\n",
              " 'La Gomera',\n",
              " 'La Palma',\n",
              " 'Lanzarote',\n",
              " 'Tenerife',\n",
              " 'La Graciosa']"
            ]
          },
          "metadata": {},
          "execution_count": 12
        }
      ]
    },
    {
      "cell_type": "markdown",
      "metadata": {
        "id": "Ajf8AN-7Wb9K"
      },
      "source": [
        "12. Compruebe si \"La Graciosa\" está en la lista \"islas\""
      ]
    },
    {
      "cell_type": "code",
      "metadata": {
        "colab": {
          "base_uri": "https://localhost:8080/"
        },
        "id": "uzLvpQ0ETx5J",
        "outputId": "dfa1282c-ab19-4596-fe8c-833e46b7b2d5"
      },
      "source": [
        "\"La Graciosa\" in islas"
      ],
      "execution_count": null,
      "outputs": [
        {
          "output_type": "execute_result",
          "data": {
            "text/plain": [
              "True"
            ]
          },
          "metadata": {},
          "execution_count": 13
        }
      ]
    },
    {
      "cell_type": "markdown",
      "metadata": {
        "id": "-2PaFdVfW0W1"
      },
      "source": [
        "13. Elimine \"La Graciosa\" de la lista \"islas\" y compruebe si \"La Graciosa\" está en la lista \"islas\""
      ]
    },
    {
      "cell_type": "code",
      "metadata": {
        "id": "4GOTIBChWT95"
      },
      "source": [
        "islas.remove(\"La Graciosa\")"
      ],
      "execution_count": null,
      "outputs": []
    },
    {
      "cell_type": "code",
      "metadata": {
        "colab": {
          "base_uri": "https://localhost:8080/"
        },
        "id": "nvSTsl9zXDRQ",
        "outputId": "6d6807ce-0c7f-4f97-9452-25fe28b2506c"
      },
      "source": [
        "\"La Graciosa\" in islas"
      ],
      "execution_count": null,
      "outputs": [
        {
          "output_type": "execute_result",
          "data": {
            "text/plain": [
              "False"
            ]
          },
          "metadata": {},
          "execution_count": 15
        }
      ]
    },
    {
      "cell_type": "markdown",
      "metadata": {
        "id": "mag-C9DnYxM1"
      },
      "source": [
        "14. Muestre los elementos de la lista de uno en uno"
      ]
    },
    {
      "cell_type": "code",
      "metadata": {
        "colab": {
          "base_uri": "https://localhost:8080/"
        },
        "id": "WRj-_V-IYQkJ",
        "outputId": "edc0e5ea-c309-4311-f7eb-52eae98282b5"
      },
      "source": [
        "for i in islas:\n",
        "  print(i)"
      ],
      "execution_count": null,
      "outputs": [
        {
          "output_type": "stream",
          "name": "stdout",
          "text": [
            "El Hierro\n",
            "Fuerteventura\n",
            "Gran Canaria\n",
            "La Gomera\n",
            "La Palma\n",
            "Lanzarote\n",
            "Tenerife\n"
          ]
        }
      ]
    },
    {
      "cell_type": "markdown",
      "metadata": {
        "id": "f44HAA2IIfIZ"
      },
      "source": [
        "15. Pregunte al usuario en qué isla reside, almacénelo en la variable isla e indique al usuario \"Resides en la isla ....\""
      ]
    },
    {
      "cell_type": "code",
      "metadata": {
        "id": "PKprJkFgY9RY",
        "colab": {
          "base_uri": "https://localhost:8080/"
        },
        "outputId": "cbbc28d8-c222-4e4d-c846-2dff97af1fe4"
      },
      "source": [
        "isla=input(\"¿En qué isla resides? \")\n",
        "print(\"Resides en la isla \"+ isla)"
      ],
      "execution_count": null,
      "outputs": [
        {
          "output_type": "stream",
          "name": "stdout",
          "text": [
            "¿En qué isla resides? El Hierro\n",
            "Resides en la isla El Hierro\n"
          ]
        }
      ]
    },
    {
      "cell_type": "markdown",
      "metadata": {
        "id": "cIWa1oxZJCeZ"
      },
      "source": [
        "16. Compruebe si la isla está en la lista de islas y muestre un mensaje indicando \"Resides en una isla de las Islas Canarias\" en caso afirmativo o \"La isla .... no pertenece a las Islas Canarias\" en caso negativo"
      ]
    },
    {
      "cell_type": "code",
      "metadata": {
        "colab": {
          "base_uri": "https://localhost:8080/"
        },
        "id": "In9Bev1qI4YZ",
        "outputId": "35035a0d-ef9d-4b2e-9568-04a70c3a63ae"
      },
      "source": [
        "if isla in islas:\n",
        "  print(\"Resides en una isla de las Islas Canarias\")\n",
        "else:\n",
        "  print(\"La isla \"+ isla + \" no pertenece a las Islas Canarias\")"
      ],
      "execution_count": null,
      "outputs": [
        {
          "output_type": "stream",
          "name": "stdout",
          "text": [
            "Resides en una isla de las Islas Canarias\n"
          ]
        }
      ]
    },
    {
      "cell_type": "code",
      "metadata": {
        "id": "JrQ_yZVlJf7h"
      },
      "source": [
        ""
      ],
      "execution_count": null,
      "outputs": []
    }
  ]
}