{
  "nbformat": 4,
  "nbformat_minor": 0,
  "metadata": {
    "colab": {
      "name": "Ejercicios_de_bucles_y_funciones.ipynb",
      "provenance": []
    },
    "kernelspec": {
      "name": "python3",
      "display_name": "Python 3"
    },
    "language_info": {
      "name": "python"
    }
  },
  "cells": [
    {
      "cell_type": "markdown",
      "metadata": {
        "id": "vtPh0W9YRARa"
      },
      "source": [
        "1. Escriba un programa que pida al usuario un número entero positivo y muestre por pantalla todos los números desde 1 hasta ese número."
      ]
    },
    {
      "cell_type": "markdown",
      "metadata": {
        "id": "1nfFwNu3S5Pr"
      },
      "source": [
        "2. Escriba un programa que pida al usuario una palabra y luego muestre por pantalla una a una las letras de la palabra introducida empezando por la última."
      ]
    },
    {
      "cell_type": "markdown",
      "metadata": {
        "id": "2PVsgmVVTzD7"
      },
      "source": [
        "3. Escriba un programa que realice una cuenta atrás desde 10 usando \"while\""
      ]
    },
    {
      "cell_type": "markdown",
      "metadata": {
        "id": "5nLjf-yPVBE8"
      },
      "source": [
        "4. Escribir una función que muestre por pantalla el saludo ¡Hola! cada vez que se la invoque."
      ]
    },
    {
      "cell_type": "markdown",
      "metadata": {
        "id": "lpkaJay0VkO0"
      },
      "source": [
        "5. Escribir una función que solicite el nombre al usuario y muestre por pantalla el saludo ¡Hola +nombre! con el nombre del usuario"
      ]
    },
    {
      "cell_type": "markdown",
      "metadata": {
        "id": "qexAwuG4W8ak"
      },
      "source": [
        "6. Escriba una función llamada hipotenusa que devuelva el valor de la hipotenusa cuando se la invoque con el valor de los catetos de un triángulo rectángulo\n",
        "\n",
        "NOTA: \n",
        "\n",
        "$h^2 = a^2 + b^2$\n",
        "\n",
        "$h = (a^2 + b^2)^(1/2)$\n"
      ]
    }
  ]
}