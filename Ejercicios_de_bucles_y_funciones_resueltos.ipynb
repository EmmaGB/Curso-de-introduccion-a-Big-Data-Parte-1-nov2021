{
  "nbformat": 4,
  "nbformat_minor": 0,
  "metadata": {
    "colab": {
      "name": "Ejercicios_de_bucles_y_funciones_resueltos.ipynb",
      "provenance": []
    },
    "kernelspec": {
      "name": "python3",
      "display_name": "Python 3"
    },
    "language_info": {
      "name": "python"
    }
  },
  "cells": [
    {
      "cell_type": "markdown",
      "metadata": {
        "id": "vtPh0W9YRARa"
      },
      "source": [
        "1. Escriba un programa que pida al usuario un número entero positivo y muestre por pantalla todos los números desde 1 hasta ese número."
      ]
    },
    {
      "cell_type": "code",
      "metadata": {
        "colab": {
          "base_uri": "https://localhost:8080/"
        },
        "id": "0eiB0443Q-7n",
        "outputId": "e3584bd1-b494-4f0b-d585-b64911e9d04c"
      },
      "source": [
        "n = int(input(\"Introduce un número entero positivo: \"))\n",
        "for i in range(n):\n",
        "    print(i+1)"
      ],
      "execution_count": 1,
      "outputs": [
        {
          "output_type": "stream",
          "name": "stdout",
          "text": [
            "Introduce un número entero positivo: 7\n",
            "1\n",
            "2\n",
            "3\n",
            "4\n",
            "5\n",
            "6\n",
            "7\n"
          ]
        }
      ]
    },
    {
      "cell_type": "markdown",
      "metadata": {
        "id": "1nfFwNu3S5Pr"
      },
      "source": [
        "2. Escriba un programa que pida al usuario una palabra y luego muestre por pantalla una a una las letras de la palabra introducida empezando por la última."
      ]
    },
    {
      "cell_type": "code",
      "metadata": {
        "colab": {
          "base_uri": "https://localhost:8080/"
        },
        "id": "VrCyU1wlRqW5",
        "outputId": "f99c02bc-4cd6-46de-f4be-c8e6c8e7fe48"
      },
      "source": [
        "palabra = input(\"Introduce una palabra: \")\n",
        "for i in range(len(palabra)):\n",
        "    print(palabra[-i-1])"
      ],
      "execution_count": 2,
      "outputs": [
        {
          "output_type": "stream",
          "name": "stdout",
          "text": [
            "Introduce una palabra: acueducto\n",
            "o\n",
            "t\n",
            "c\n",
            "u\n",
            "d\n",
            "e\n",
            "u\n",
            "c\n",
            "a\n"
          ]
        }
      ]
    },
    {
      "cell_type": "markdown",
      "metadata": {
        "id": "2PVsgmVVTzD7"
      },
      "source": [
        "3. Escriba un programa que realice una cuenta atrás desde 10 usando \"while\""
      ]
    },
    {
      "cell_type": "code",
      "metadata": {
        "colab": {
          "base_uri": "https://localhost:8080/"
        },
        "id": "uiNBeOWVTNUq",
        "outputId": "8646d299-0b1e-437d-d336-2c803cf36559"
      },
      "source": [
        "a = 10\n",
        "while a > -1:\n",
        "  print(a)\n",
        "  a-=1"
      ],
      "execution_count": 3,
      "outputs": [
        {
          "output_type": "stream",
          "name": "stdout",
          "text": [
            "10\n",
            "9\n",
            "8\n",
            "7\n",
            "6\n",
            "5\n",
            "4\n",
            "3\n",
            "2\n",
            "1\n",
            "0\n"
          ]
        }
      ]
    },
    {
      "cell_type": "markdown",
      "metadata": {
        "id": "5nLjf-yPVBE8"
      },
      "source": [
        "4. Escribir una función que muestre por pantalla el saludo ¡Hola! cada vez que se la invoque."
      ]
    },
    {
      "cell_type": "code",
      "metadata": {
        "id": "jORqGHFEVQqa"
      },
      "source": [
        "def saludo():\n",
        "  print(\"¡Hola!\")"
      ],
      "execution_count": 4,
      "outputs": []
    },
    {
      "cell_type": "code",
      "metadata": {
        "colab": {
          "base_uri": "https://localhost:8080/"
        },
        "id": "fd13M3ynVcoj",
        "outputId": "84cc0fa1-3478-4ce7-de31-e2c576e3341b"
      },
      "source": [
        "saludo()"
      ],
      "execution_count": 5,
      "outputs": [
        {
          "output_type": "stream",
          "name": "stdout",
          "text": [
            "¡Hola!\n"
          ]
        }
      ]
    },
    {
      "cell_type": "markdown",
      "metadata": {
        "id": "lpkaJay0VkO0"
      },
      "source": [
        "5. Escribir una función que solicite el nombre al usuario y muestre por pantalla el saludo ¡Hola +nombre! con el nombre del usuario"
      ]
    },
    {
      "cell_type": "code",
      "metadata": {
        "id": "rOJbl81YVeLF"
      },
      "source": [
        "def saludo():\n",
        "  nombre=input(\"¿Cuál es tu nombre? \")\n",
        "  print(\"¡Hola \"+nombre+\"!\")"
      ],
      "execution_count": 6,
      "outputs": []
    },
    {
      "cell_type": "code",
      "metadata": {
        "colab": {
          "base_uri": "https://localhost:8080/"
        },
        "id": "BiGdZDxfWaac",
        "outputId": "bea8b2d7-c462-4b7a-e824-af7bae7a6540"
      },
      "source": [
        "saludo()"
      ],
      "execution_count": 7,
      "outputs": [
        {
          "output_type": "stream",
          "name": "stdout",
          "text": [
            "¿Cuál es tu nombre? Alberto\n",
            "¡Hola Alberto!\n"
          ]
        }
      ]
    },
    {
      "cell_type": "markdown",
      "metadata": {
        "id": "qexAwuG4W8ak"
      },
      "source": [
        "6. Escriba una función llamada hipotenusa que devuelva el valor de la hipotenusa cuando se la invoque con el valor de los catetos de un triángulo rectángulo\n",
        "\n",
        "NOTA: \n",
        "\n",
        "$h^2 = a^2 + b^2$\n",
        "\n",
        "$h = (a^2 + b^2)^(1/2)$\n"
      ]
    },
    {
      "cell_type": "code",
      "metadata": {
        "id": "UVuNOz7fWcKE"
      },
      "source": [
        "def hipotenusa(a,b):\n",
        "  h = (a**2 + b**2)**(1/2)\n",
        "  return(h)"
      ],
      "execution_count": 8,
      "outputs": []
    },
    {
      "cell_type": "code",
      "metadata": {
        "colab": {
          "base_uri": "https://localhost:8080/"
        },
        "id": "Sy8dp3pHX4I8",
        "outputId": "4d1a1712-7b5b-4833-9931-771e180aa049"
      },
      "source": [
        "hipotenusa(3,4)"
      ],
      "execution_count": 9,
      "outputs": [
        {
          "output_type": "execute_result",
          "data": {
            "text/plain": [
              "5.0"
            ]
          },
          "metadata": {},
          "execution_count": 9
        }
      ]
    }
  ]
}